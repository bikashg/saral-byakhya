{
 "cells": [
  {
   "cell_type": "markdown",
   "metadata": {},
   "source": [
    "<h1><center>WORD EMBEDDINGS FOR TEXTUAL SIMILARITY</center></h1>\n",
    "<h2><center>BIKASH GYAWALI</center></h2>\n",
    "<h1><center>bikashg@live.com</center></h1>"
   ]
  },
  {
   "cell_type": "markdown",
   "metadata": {},
   "source": [
    "  "
   ]
  },
  {
   "cell_type": "raw",
   "metadata": {},
   "source": [
    "NLP deals with text processing at various levels of representation. \n",
    "\n",
    "\n",
    "To understand the meaning of a text (sentence) is to understand the meaning of its words -- useful for many NLP applications like IR, QA, SA etc.\n",
    "\n",
    "\n",
    "\n",
    "\"You shall know a word by the company it keeps\" (John Firth)\n",
    "\n",
    "\n",
    "\n",
    "I play __  : play/read/eat, NP (football/guitar/books but not France)\n",
    "\n",
    "\n",
    "\n",
    "Word embeddings are techniques/means to encode words via numbers (real valued vectors. Eg: play = [0.07,-0.5,0.98]) such that similar words get similar representation. \n",
    "\n",
    "This presentation is about using word embeddings for specific NLP task (determining textual similarity). We will not tak about how to build word embedding models."
   ]
  },
  {
   "cell_type": "markdown",
   "metadata": {},
   "source": [
    "<img src=\"wordEmbedding_IO.jpg\">"
   ]
  },
  {
   "cell_type": "markdown",
   "metadata": {},
   "source": [
    "  "
   ]
  },
  {
   "cell_type": "markdown",
   "metadata": {},
   "source": [
    "<img src=\"word-embeddings.png\">"
   ]
  },
  {
   "cell_type": "code",
   "execution_count": null,
   "metadata": {},
   "outputs": [],
   "source": [
    "# Image copied from https://www.adityathakker.com/introduction-to-word2vec-how-it-works/"
   ]
  },
  {
   "cell_type": "code",
   "execution_count": null,
   "metadata": {},
   "outputs": [],
   "source": []
  },
  {
   "cell_type": "markdown",
   "metadata": {},
   "source": [
    "# 1. Word2Vec"
   ]
  },
  {
   "cell_type": "code",
   "execution_count": null,
   "metadata": {},
   "outputs": [],
   "source": [
    "import gensim\n",
    "\n",
    "import numpy as np\n",
    "\n",
    "word2vecModel = gensim.models.KeyedVectors.load_word2vec_format('GoogleNews-vectors-negative300.bin',binary=True)"
   ]
  },
  {
   "cell_type": "code",
   "execution_count": null,
   "metadata": {},
   "outputs": [],
   "source": [
    "vec_computer = word2vecModel.word_vec(\"computer\")"
   ]
  },
  {
   "cell_type": "code",
   "execution_count": null,
   "metadata": {},
   "outputs": [],
   "source": [
    "print(vec_computer)"
   ]
  },
  {
   "cell_type": "code",
   "execution_count": null,
   "metadata": {},
   "outputs": [],
   "source": [
    "print(len(vec_computer))"
   ]
  },
  {
   "cell_type": "code",
   "execution_count": null,
   "metadata": {},
   "outputs": [],
   "source": [
    "vec_website = word2vecModel.word_vec(\"website\")"
   ]
  },
  {
   "cell_type": "code",
   "execution_count": null,
   "metadata": {},
   "outputs": [],
   "source": [
    "print(len(vec_website))"
   ]
  },
  {
   "cell_type": "code",
   "execution_count": null,
   "metadata": {},
   "outputs": [],
   "source": [
    "vec_orange = word2vecModel.word_vec(\"orange\")"
   ]
  },
  {
   "cell_type": "code",
   "execution_count": null,
   "metadata": {},
   "outputs": [],
   "source": [
    "print(len(vec_orange))"
   ]
  },
  {
   "cell_type": "code",
   "execution_count": null,
   "metadata": {},
   "outputs": [],
   "source": [
    "vec_oov = word2vecModel.word_vec(\"embeddings\")"
   ]
  },
  {
   "cell_type": "markdown",
   "metadata": {},
   "source": [
    "## Compute similarity of words\n",
    "\n",
    "The cosine similarity value can range from -1 (exactly opposite) to 1 (exactly the same). See https://en.wikipedia.org/wiki/Cosine_similarity"
   ]
  },
  {
   "cell_type": "code",
   "execution_count": null,
   "metadata": {},
   "outputs": [],
   "source": [
    "similarity_computer_website = word2vecModel.similarity('computer', 'website')\n",
    "print(similarity_computer_website)"
   ]
  },
  {
   "cell_type": "code",
   "execution_count": null,
   "metadata": {},
   "outputs": [],
   "source": [
    "similarity_orange_website = word2vecModel.similarity('orange', 'website')\n",
    "print(similarity_orange_website)"
   ]
  },
  {
   "cell_type": "code",
   "execution_count": null,
   "metadata": {},
   "outputs": [],
   "source": [
    "def compute_cosine_similarity(a,b):\n",
    "#     Copied from https://skipperkongen.dk/2018/09/19/cosine-similarity-in-python/\n",
    "    dot = np.dot(a, b)\n",
    "    norma = np.linalg.norm(a)\n",
    "    normb = np.linalg.norm(b)\n",
    "    cos = dot / (norma * normb)\n",
    "    return cos\n",
    "\n",
    "\n",
    "\n",
    "print(compute_cosine_similarity(vec_computer,vec_website))\n",
    "print(compute_cosine_similarity(vec_orange,vec_website))"
   ]
  },
  {
   "cell_type": "markdown",
   "metadata": {},
   "source": [
    "## Demo\n",
    "http://bionlp-www.utu.fi/wv_demo/"
   ]
  },
  {
   "cell_type": "code",
   "execution_count": null,
   "metadata": {},
   "outputs": [],
   "source": []
  },
  {
   "cell_type": "code",
   "execution_count": null,
   "metadata": {},
   "outputs": [],
   "source": []
  },
  {
   "cell_type": "code",
   "execution_count": null,
   "metadata": {},
   "outputs": [],
   "source": []
  },
  {
   "cell_type": "markdown",
   "metadata": {},
   "source": [
    "# 2. BERT Embeddings\n",
    "\n",
    "BERT is a newly released language understanding model from Google. For more details, see : https://github.com/google-research/bert. \n",
    "\n",
    "Among others, you can extract word embeeddings from the model. These are *contextualised* word embeddings.\n",
    "\n",
    "https://github.com/imgarylai/bert-embedding"
   ]
  },
  {
   "cell_type": "code",
   "execution_count": null,
   "metadata": {},
   "outputs": [],
   "source": [
    "from bert_embedding import BertEmbedding\n",
    "import numpy as np\n",
    "import string, random\n",
    "import re"
   ]
  },
  {
   "cell_type": "code",
   "execution_count": null,
   "metadata": {},
   "outputs": [],
   "source": [
    "bert_embedding = BertEmbedding()"
   ]
  },
  {
   "cell_type": "code",
   "execution_count": null,
   "metadata": {},
   "outputs": [],
   "source": [
    "test_sentence1 = [\"I bought an apple\"]\n",
    "# test_sentence2 = [\"I bought an apple iphone\"]\n",
    "bert_vector1 = bert_embedding(test_sentence1)\n",
    "print(bert_vector1)"
   ]
  },
  {
   "cell_type": "code",
   "execution_count": null,
   "metadata": {},
   "outputs": [],
   "source": [
    "len(bert_vector1)"
   ]
  },
  {
   "cell_type": "code",
   "execution_count": null,
   "metadata": {},
   "outputs": [],
   "source": [
    "bert_vector1[0][0]"
   ]
  },
  {
   "cell_type": "code",
   "execution_count": null,
   "metadata": {},
   "outputs": [],
   "source": [
    "test_sentence1_apple_vector = bert_vector1[0][1][3]\n",
    "test_sentence1_apple_vector"
   ]
  },
  {
   "cell_type": "code",
   "execution_count": null,
   "metadata": {},
   "outputs": [],
   "source": [
    "print(len(bert_vector1[0][1][0])) # I\n",
    "print(len(bert_vector1[0][1][1])) # bought\n",
    "print(len(bert_vector1[0][1][2])) # an\n",
    "print(len(bert_vector1[0][1][3])) # apple"
   ]
  },
  {
   "cell_type": "code",
   "execution_count": null,
   "metadata": {},
   "outputs": [],
   "source": [
    "test_sentence2 = [\"I bought an apple iphone\"] # Previous sentence : I bought an apple.\n",
    "bert_vector2 = bert_embedding(test_sentence2)"
   ]
  },
  {
   "cell_type": "code",
   "execution_count": null,
   "metadata": {},
   "outputs": [],
   "source": [
    "test_sentence2_apple_vector = bert_vector2[0][1][3]\n",
    "test_sentence2_apple_vector"
   ]
  },
  {
   "cell_type": "code",
   "execution_count": null,
   "metadata": {},
   "outputs": [],
   "source": [
    "similarity_apples = compute_cosine_similarity(test_sentence1_apple_vector,test_sentence2_apple_vector)\n",
    "\n",
    "# i bought an apple\n",
    "# i bought an apple iphone\n",
    "\n",
    "print(similarity_apples)"
   ]
  },
  {
   "cell_type": "code",
   "execution_count": null,
   "metadata": {},
   "outputs": [],
   "source": [
    "# bought\n",
    "\n",
    "similarity_bought = compute_cosine_similarity(bert_vector1[0][1][1],bert_vector2[0][1][1])\n",
    "\n",
    "print(similarity_bought)"
   ]
  },
  {
   "cell_type": "code",
   "execution_count": null,
   "metadata": {},
   "outputs": [],
   "source": []
  },
  {
   "cell_type": "markdown",
   "metadata": {},
   "source": [
    "# OOV\n",
    "\n",
    "\n",
    "### The BERT model we used was trained on the book corpus and the wikipedia corpus.\n",
    "\n",
    "### BERT uses a WordPiece model -- if the complete word is not in its vocab, resort to subword. The lowest level of fallback is character.\n",
    "\n",
    "### BERT vocab consists of : ~30,000 most common words and subwords in English + all characters "
   ]
  },
  {
   "cell_type": "code",
   "execution_count": null,
   "metadata": {},
   "outputs": [],
   "source": [
    "oov_sentence = [\"I want to learn dlkfjegsdvkn\"]\n",
    "bert_oov = bert_embedding(oov_sentence)\n",
    "print(bert_oov)"
   ]
  },
  {
   "cell_type": "code",
   "execution_count": null,
   "metadata": {},
   "outputs": [],
   "source": [
    "bert_oov[0][1][4]"
   ]
  },
  {
   "cell_type": "markdown",
   "metadata": {},
   "source": [
    "## Practical use case : Lets identify near-duplicate document pairs."
   ]
  },
  {
   "cell_type": "code",
   "execution_count": null,
   "metadata": {},
   "outputs": [],
   "source": [
    "def split2sentences(inputText):\n",
    "    splits = re.split('\\.|\\n',inputText)  # Dot or a newline = sentence dimiliter. Sometimes, there is no space after dot for sentences due to malformed text.\n",
    "    return list(filter(None, splits)) # remove all empty elements caused by repeated dimiliters"
   ]
  },
  {
   "cell_type": "code",
   "execution_count": null,
   "metadata": {},
   "outputs": [],
   "source": [
    "def getVector(inputText, model=None):\n",
    "    \n",
    "    sentences = split2sentences(inputText)\n",
    "    \n",
    "    result = bert_embedding(sentences)  # We can pass the array of sentences all at once to get bert embeddings.\n",
    "    \n",
    "    \n",
    "    avg_document_vector = np.zeros(shape=(len(sentences),768)) # Each BERT vector is of length 768\n",
    "    count_sentences = 0\n",
    "    \n",
    "    \n",
    "    for i in range(len(result)):\n",
    "        current_result = result[i]\n",
    "        \n",
    "        current_sentence_tokens = current_result[0]\n",
    "        current_sentence_vectors = current_result[1]\n",
    "        \n",
    "        # Sometimes, due to poor sentence identification, can end up with just one/few word sentences -- ignore.\n",
    "        if len(current_sentence_tokens)<3 : \n",
    "            continue\n",
    "\n",
    "        avg_current_sentence_vector = np.mean(current_sentence_vectors, axis=0) # to take the mean of each col across vectors for vectors obtained for each token.\n",
    "          \n",
    "        avg_document_vector[count_sentences] = avg_current_sentence_vector\n",
    "        count_sentences = count_sentences + 1\n",
    "        \n",
    "    \n",
    "    avg_document_vector = np.mean(avg_document_vector, axis=0) # to take the mean of each col across vectors for vectors obtained for each sentence.\n",
    "    \n",
    "    return avg_document_vector"
   ]
  },
  {
   "cell_type": "code",
   "execution_count": null,
   "metadata": {},
   "outputs": [],
   "source": [
    "doc1 = '''In this paper we test for the existence of a long-run relationship between investment and savings (the Feldstein-Horioka puzzle) in a panel of 18 OECD countries, 1970-2007, allowing for heterogenous breaks in the coefficients. For this purpose we develop a bootstrap panel cointegration test with breaks robust to cross-section dependence. The test suggests that, even allowing for breaks in the countries where capital control regulations changed in the sample period, there is no evidence of an investment-savings long-run relationship for the panel as a whole.'''"
   ]
  },
  {
   "cell_type": "code",
   "execution_count": null,
   "metadata": {},
   "outputs": [],
   "source": [
    "doc2 = '''In this paper we test for the existence of a long-run savings-investments relationship in 18 OECD economies over the period 1970-2007. Although individual modelling provides only very weak support to the hypothesis of a link between savings and investments, this cannot be ruled out as individual time series tests may have low power. We thus construct a new bootstrap test for panel cointegration robust to short- and long-run dependence across units. Thid test provides evidence of a long-run savings-investments relationship in about half of the OECD economies\\nexamined. The elasticities are however often smaller than 1, the value expected under no capital\\nmovements.'''"
   ]
  },
  {
   "cell_type": "code",
   "execution_count": null,
   "metadata": {},
   "outputs": [],
   "source": [
    "bert_doc1 = getVector(doc1)\n",
    "bert_doc2 = getVector(doc2)"
   ]
  },
  {
   "cell_type": "code",
   "execution_count": null,
   "metadata": {},
   "outputs": [],
   "source": [
    "similarity_docs = compute_cosine_similarity(bert_doc1,bert_doc2)\n",
    "\n",
    "print(similarity_docs)"
   ]
  },
  {
   "cell_type": "code",
   "execution_count": null,
   "metadata": {},
   "outputs": [],
   "source": []
  },
  {
   "cell_type": "markdown",
   "metadata": {},
   "source": [
    "## BERT in specific text domains."
   ]
  },
  {
   "cell_type": "markdown",
   "metadata": {},
   "source": [
    "Scientific Papers : SCIBERT (https://github.com/allenai/scibert)\n",
    "\n",
    "Biomedical Text : BioBERT (https://github.com/dmis-lab/biobert)\n",
    "\n",
    "Clinical Text : ClinicalBERT (https://github.com/kexinhuang12345/clinicalBERT)"
   ]
  },
  {
   "cell_type": "code",
   "execution_count": null,
   "metadata": {},
   "outputs": [],
   "source": []
  },
  {
   "cell_type": "markdown",
   "metadata": {},
   "source": [
    "# To summarise"
   ]
  },
  {
   "cell_type": "markdown",
   "metadata": {},
   "source": [
    "BERT is : \n",
    "    \n",
    "    Contextual\n",
    "    OOV : Word Piece model.\n",
    "    Higher feature dimensions\n",
    "    Different neural architecture : (shallow vs more deep)\n",
    "    Training dataset -- nature and size\n",
    "    State of the art results \n",
    "    Adapted to more/many general/domain specific text\n",
    "\n",
    "\n",
    "\n",
    "What was not discussed in this presentation :\n",
    "\n",
    "    BERT is more than just word embeddings -- fine tune it for downstream NLP tasks."
   ]
  },
  {
   "cell_type": "code",
   "execution_count": null,
   "metadata": {},
   "outputs": [],
   "source": [
    "\n",
    "I saw a cat yesterday\n",
    "0  1  2  3   4\n",
    "\n",
    "     Input Feature    Label\n",
    "ex1. 0 1                2\n",
    "ex2. 1 2 .              3\n",
    "ex3  2 3                4\n",
    "\n",
    "\n",
    "      2 .           0 1\n",
    "\n",
    "\n",
    "\n"
   ]
  }
 ],
 "metadata": {
  "language_info": {
   "name": "python",
   "pygments_lexer": "ipython3"
  }
 },
 "nbformat": 4,
 "nbformat_minor": 2
}
